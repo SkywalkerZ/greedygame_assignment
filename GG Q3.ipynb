{
 "cells": [
  {
   "cell_type": "code",
   "execution_count": 1,
   "id": "a284ea96",
   "metadata": {},
   "outputs": [],
   "source": [
    "import numpy as np \n",
    "import pandas as pd\n",
    "from sklearn.linear_model import LogisticRegression\n",
    "from sklearn.model_selection import train_test_split\n",
    "from sklearn.metrics import r2_score, explained_variance_score, confusion_matrix, accuracy_score, classification_report, log_loss\n",
    "from math import sqrt"
   ]
  },
  {
   "cell_type": "code",
   "execution_count": 3,
   "id": "58eff32b",
   "metadata": {},
   "outputs": [
    {
     "name": "stdout",
     "output_type": "stream",
     "text": [
      "(31, 6)\n"
     ]
    },
    {
     "data": {
      "text/html": [
       "<div>\n",
       "<style scoped>\n",
       "    .dataframe tbody tr th:only-of-type {\n",
       "        vertical-align: middle;\n",
       "    }\n",
       "\n",
       "    .dataframe tbody tr th {\n",
       "        vertical-align: top;\n",
       "    }\n",
       "\n",
       "    .dataframe thead th {\n",
       "        text-align: right;\n",
       "    }\n",
       "</style>\n",
       "<table border=\"1\" class=\"dataframe\">\n",
       "  <thead>\n",
       "    <tr style=\"text-align: right;\">\n",
       "      <th></th>\n",
       "      <th>Date</th>\n",
       "      <th>DAU</th>\n",
       "      <th>Installs</th>\n",
       "      <th>Uninstalls</th>\n",
       "      <th>Signups</th>\n",
       "      <th>Referrals</th>\n",
       "    </tr>\n",
       "  </thead>\n",
       "  <tbody>\n",
       "    <tr>\n",
       "      <th>0</th>\n",
       "      <td>2022-10-01</td>\n",
       "      <td>24071</td>\n",
       "      <td>6630</td>\n",
       "      <td>6994</td>\n",
       "      <td>3511</td>\n",
       "      <td>962</td>\n",
       "    </tr>\n",
       "    <tr>\n",
       "      <th>1</th>\n",
       "      <td>2022-10-02</td>\n",
       "      <td>23548</td>\n",
       "      <td>6366</td>\n",
       "      <td>6669</td>\n",
       "      <td>3387</td>\n",
       "      <td>941</td>\n",
       "    </tr>\n",
       "    <tr>\n",
       "      <th>2</th>\n",
       "      <td>2022-10-03</td>\n",
       "      <td>24572</td>\n",
       "      <td>6936</td>\n",
       "      <td>6899</td>\n",
       "      <td>3654</td>\n",
       "      <td>940</td>\n",
       "    </tr>\n",
       "    <tr>\n",
       "      <th>3</th>\n",
       "      <td>2022-10-04</td>\n",
       "      <td>24212</td>\n",
       "      <td>6561</td>\n",
       "      <td>6766</td>\n",
       "      <td>3532</td>\n",
       "      <td>960</td>\n",
       "    </tr>\n",
       "    <tr>\n",
       "      <th>4</th>\n",
       "      <td>2022-10-05</td>\n",
       "      <td>23247</td>\n",
       "      <td>6059</td>\n",
       "      <td>6402</td>\n",
       "      <td>3315</td>\n",
       "      <td>923</td>\n",
       "    </tr>\n",
       "  </tbody>\n",
       "</table>\n",
       "</div>"
      ],
      "text/plain": [
       "         Date    DAU  Installs  Uninstalls  Signups  Referrals\n",
       "0  2022-10-01  24071      6630        6994     3511        962\n",
       "1  2022-10-02  23548      6366        6669     3387        941\n",
       "2  2022-10-03  24572      6936        6899     3654        940\n",
       "3  2022-10-04  24212      6561        6766     3532        960\n",
       "4  2022-10-05  23247      6059        6402     3315        923"
      ]
     },
     "execution_count": 3,
     "metadata": {},
     "output_type": "execute_result"
    }
   ],
   "source": [
    "raw_data=pd.read_csv('Q3_train.csv')\n",
    "print(raw_data.shape)\n",
    "\n",
    "raw_data.head(5)"
   ]
  },
  {
   "cell_type": "code",
   "execution_count": 10,
   "id": "73ed2fec",
   "metadata": {},
   "outputs": [
    {
     "data": {
      "text/plain": [
       "0      962\n",
       "1      941\n",
       "2      940\n",
       "3      960\n",
       "4      923\n",
       "5      822\n",
       "6      957\n",
       "7      994\n",
       "8     1016\n",
       "9     1186\n",
       "10    1161\n",
       "11    1193\n",
       "12     987\n",
       "13     860\n",
       "14     772\n",
       "15    1052\n",
       "16     801\n",
       "17     572\n",
       "18     606\n",
       "19     700\n",
       "20     512\n",
       "21     530\n",
       "22     484\n",
       "23     384\n",
       "24     435\n",
       "25     491\n",
       "26     551\n",
       "27     555\n",
       "28     536\n",
       "29     573\n",
       "30     419\n",
       "Name: Referrals, dtype: int32"
      ]
     },
     "execution_count": 10,
     "metadata": {},
     "output_type": "execute_result"
    }
   ],
   "source": [
    "X = raw_data.drop(['Date','Referrals'],axis=1).values\n",
    "X = X.astype(int)\n",
    "X\n",
    "\n",
    "Y = raw_data['Referrals']\n",
    "Y = Y.astype(int)\n",
    "Y"
   ]
  },
  {
   "cell_type": "code",
   "execution_count": 34,
   "id": "774702c0",
   "metadata": {},
   "outputs": [
    {
     "name": "stderr",
     "output_type": "stream",
     "text": [
      "C:\\Users\\abraa\\anaconda3\\lib\\site-packages\\sklearn\\linear_model\\_logistic.py:444: ConvergenceWarning: lbfgs failed to converge (status=1):\n",
      "STOP: TOTAL NO. of ITERATIONS REACHED LIMIT.\n",
      "\n",
      "Increase the number of iterations (max_iter) or scale the data as shown in:\n",
      "    https://scikit-learn.org/stable/modules/preprocessing.html\n",
      "Please also refer to the documentation for alternative solver options:\n",
      "    https://scikit-learn.org/stable/modules/linear_model.html#logistic-regression\n",
      "  n_iter_i = _check_optimize_result(\n"
     ]
    },
    {
     "data": {
      "text/html": [
       "<style>#sk-container-id-5 {color: black;background-color: white;}#sk-container-id-5 pre{padding: 0;}#sk-container-id-5 div.sk-toggleable {background-color: white;}#sk-container-id-5 label.sk-toggleable__label {cursor: pointer;display: block;width: 100%;margin-bottom: 0;padding: 0.3em;box-sizing: border-box;text-align: center;}#sk-container-id-5 label.sk-toggleable__label-arrow:before {content: \"▸\";float: left;margin-right: 0.25em;color: #696969;}#sk-container-id-5 label.sk-toggleable__label-arrow:hover:before {color: black;}#sk-container-id-5 div.sk-estimator:hover label.sk-toggleable__label-arrow:before {color: black;}#sk-container-id-5 div.sk-toggleable__content {max-height: 0;max-width: 0;overflow: hidden;text-align: left;background-color: #f0f8ff;}#sk-container-id-5 div.sk-toggleable__content pre {margin: 0.2em;color: black;border-radius: 0.25em;background-color: #f0f8ff;}#sk-container-id-5 input.sk-toggleable__control:checked~div.sk-toggleable__content {max-height: 200px;max-width: 100%;overflow: auto;}#sk-container-id-5 input.sk-toggleable__control:checked~label.sk-toggleable__label-arrow:before {content: \"▾\";}#sk-container-id-5 div.sk-estimator input.sk-toggleable__control:checked~label.sk-toggleable__label {background-color: #d4ebff;}#sk-container-id-5 div.sk-label input.sk-toggleable__control:checked~label.sk-toggleable__label {background-color: #d4ebff;}#sk-container-id-5 input.sk-hidden--visually {border: 0;clip: rect(1px 1px 1px 1px);clip: rect(1px, 1px, 1px, 1px);height: 1px;margin: -1px;overflow: hidden;padding: 0;position: absolute;width: 1px;}#sk-container-id-5 div.sk-estimator {font-family: monospace;background-color: #f0f8ff;border: 1px dotted black;border-radius: 0.25em;box-sizing: border-box;margin-bottom: 0.5em;}#sk-container-id-5 div.sk-estimator:hover {background-color: #d4ebff;}#sk-container-id-5 div.sk-parallel-item::after {content: \"\";width: 100%;border-bottom: 1px solid gray;flex-grow: 1;}#sk-container-id-5 div.sk-label:hover label.sk-toggleable__label {background-color: #d4ebff;}#sk-container-id-5 div.sk-serial::before {content: \"\";position: absolute;border-left: 1px solid gray;box-sizing: border-box;top: 0;bottom: 0;left: 50%;z-index: 0;}#sk-container-id-5 div.sk-serial {display: flex;flex-direction: column;align-items: center;background-color: white;padding-right: 0.2em;padding-left: 0.2em;position: relative;}#sk-container-id-5 div.sk-item {position: relative;z-index: 1;}#sk-container-id-5 div.sk-parallel {display: flex;align-items: stretch;justify-content: center;background-color: white;position: relative;}#sk-container-id-5 div.sk-item::before, #sk-container-id-5 div.sk-parallel-item::before {content: \"\";position: absolute;border-left: 1px solid gray;box-sizing: border-box;top: 0;bottom: 0;left: 50%;z-index: -1;}#sk-container-id-5 div.sk-parallel-item {display: flex;flex-direction: column;z-index: 1;position: relative;background-color: white;}#sk-container-id-5 div.sk-parallel-item:first-child::after {align-self: flex-end;width: 50%;}#sk-container-id-5 div.sk-parallel-item:last-child::after {align-self: flex-start;width: 50%;}#sk-container-id-5 div.sk-parallel-item:only-child::after {width: 0;}#sk-container-id-5 div.sk-dashed-wrapped {border: 1px dashed gray;margin: 0 0.4em 0.5em 0.4em;box-sizing: border-box;padding-bottom: 0.4em;background-color: white;}#sk-container-id-5 div.sk-label label {font-family: monospace;font-weight: bold;display: inline-block;line-height: 1.2em;}#sk-container-id-5 div.sk-label-container {text-align: center;}#sk-container-id-5 div.sk-container {/* jupyter's `normalize.less` sets `[hidden] { display: none; }` but bootstrap.min.css set `[hidden] { display: none !important; }` so we also need the `!important` here to be able to override the default hidden behavior on the sphinx rendered scikit-learn.org. See: https://github.com/scikit-learn/scikit-learn/issues/21755 */display: inline-block !important;position: relative;}#sk-container-id-5 div.sk-text-repr-fallback {display: none;}</style><div id=\"sk-container-id-5\" class=\"sk-top-container\"><div class=\"sk-text-repr-fallback\"><pre>LogisticRegression(random_state=15)</pre><b>In a Jupyter environment, please rerun this cell to show the HTML representation or trust the notebook. <br />On GitHub, the HTML representation is unable to render, please try loading this page with nbviewer.org.</b></div><div class=\"sk-container\" hidden><div class=\"sk-item\"><div class=\"sk-estimator sk-toggleable\"><input class=\"sk-toggleable__control sk-hidden--visually\" id=\"sk-estimator-id-5\" type=\"checkbox\" checked><label for=\"sk-estimator-id-5\" class=\"sk-toggleable__label sk-toggleable__label-arrow\">LogisticRegression</label><div class=\"sk-toggleable__content\"><pre>LogisticRegression(random_state=15)</pre></div></div></div></div></div>"
      ],
      "text/plain": [
       "LogisticRegression(random_state=15)"
      ]
     },
     "execution_count": 34,
     "metadata": {},
     "output_type": "execute_result"
    }
   ],
   "source": [
    "X_train, X_test, Y_train, Y_test = train_test_split(X, Y, train_size = 0.85, test_size=0.15)\n",
    "log_reg = LogisticRegression(random_state=15)\n",
    "\n",
    "log_reg.fit(X_train, Y_train)\n"
   ]
  },
  {
   "cell_type": "code",
   "execution_count": 35,
   "id": "f3ae419c",
   "metadata": {},
   "outputs": [
    {
     "name": "stdout",
     "output_type": "stream",
     "text": [
      "[ 555  551  384  962  923  860  801  941  536 1193  772 1186  994  530\n",
      "  573  484  572 1016  491  419  435 1052  960  940  987  512]\n"
     ]
    }
   ],
   "source": [
    "log_reg.predict(X_train)\n",
    "y_pred = log_reg.predict(X_train)\n",
    "print(y_pred)"
   ]
  },
  {
   "cell_type": "code",
   "execution_count": 36,
   "id": "0c33742a",
   "metadata": {},
   "outputs": [
    {
     "name": "stdout",
     "output_type": "stream",
     "text": [
      "The Training Accuracy is:  1.0\n",
      "              precision    recall  f1-score   support\n",
      "\n",
      "         384       1.00      1.00      1.00         1\n",
      "         419       1.00      1.00      1.00         1\n",
      "         435       1.00      1.00      1.00         1\n",
      "         484       1.00      1.00      1.00         1\n",
      "         491       1.00      1.00      1.00         1\n",
      "         512       1.00      1.00      1.00         1\n",
      "         530       1.00      1.00      1.00         1\n",
      "         536       1.00      1.00      1.00         1\n",
      "         551       1.00      1.00      1.00         1\n",
      "         555       1.00      1.00      1.00         1\n",
      "         572       1.00      1.00      1.00         1\n",
      "         573       1.00      1.00      1.00         1\n",
      "         772       1.00      1.00      1.00         1\n",
      "         801       1.00      1.00      1.00         1\n",
      "         860       1.00      1.00      1.00         1\n",
      "         923       1.00      1.00      1.00         1\n",
      "         940       1.00      1.00      1.00         1\n",
      "         941       1.00      1.00      1.00         1\n",
      "         960       1.00      1.00      1.00         1\n",
      "         962       1.00      1.00      1.00         1\n",
      "         987       1.00      1.00      1.00         1\n",
      "         994       1.00      1.00      1.00         1\n",
      "        1016       1.00      1.00      1.00         1\n",
      "        1052       1.00      1.00      1.00         1\n",
      "        1186       1.00      1.00      1.00         1\n",
      "        1193       1.00      1.00      1.00         1\n",
      "\n",
      "    accuracy                           1.00        26\n",
      "   macro avg       1.00      1.00      1.00        26\n",
      "weighted avg       1.00      1.00      1.00        26\n",
      "\n"
     ]
    }
   ],
   "source": [
    "# Accuracy on Train\n",
    "print(\"The Training Accuracy is: \", log_reg.score(X_train, Y_train))\n",
    "\n",
    "\n",
    "# Classification Report\n",
    "print(classification_report(Y_train, y_pred))"
   ]
  },
  {
   "cell_type": "code",
   "execution_count": 47,
   "id": "e6d9620a",
   "metadata": {},
   "outputs": [
    {
     "name": "stdout",
     "output_type": "stream",
     "text": [
      "[[12816  3763  4149  1806]\n",
      " [12812  3087  3868  1550]\n",
      " [12042  3176  3815  1410]\n",
      " [12595  3172  3878  1629]\n",
      " [12361  3390  4021  1578]\n",
      " [13166  3441  4071  1656]\n",
      " [12565  3468  4011  1556]\n",
      " [12988  4468  4143  1808]\n",
      " [12992  4491  4638  2017]\n",
      " [13377  4261  4480  1997]\n",
      " [13826  4274  4512  2047]\n",
      " [13464  4660  4856  2066]\n",
      " [13415  4416  4749  2147]\n",
      " [13873  4097  4305  2065]\n",
      " [14459  4890  4593  2707]]\n"
     ]
    },
    {
     "data": {
      "text/plain": [
       "array([ 536,  530,  435,  551,  435,  555,  491,  860, 1016,  860,  536,\n",
       "       1016,  860,  801, 1193])"
      ]
     },
     "execution_count": 47,
     "metadata": {},
     "output_type": "execute_result"
    }
   ],
   "source": [
    "#Predict referrals\n",
    "predict_data = pd.read_csv('Q3_predict.csv')\n",
    "predict_data = predict_data.drop(['Date','Referrals'],axis=1).values\n",
    "predict_data = predict_data.astype(int)\n",
    "pred = log_reg.predict(predict_data)\n",
    "print(predict_data)\n",
    "pred\n",
    "\n",
    "\n",
    "\n"
   ]
  },
  {
   "cell_type": "code",
   "execution_count": null,
   "id": "a998cbd6",
   "metadata": {},
   "outputs": [],
   "source": []
  }
 ],
 "metadata": {
  "kernelspec": {
   "display_name": "Python 3 (ipykernel)",
   "language": "python",
   "name": "python3"
  },
  "language_info": {
   "codemirror_mode": {
    "name": "ipython",
    "version": 3
   },
   "file_extension": ".py",
   "mimetype": "text/x-python",
   "name": "python",
   "nbconvert_exporter": "python",
   "pygments_lexer": "ipython3",
   "version": "3.9.12"
  }
 },
 "nbformat": 4,
 "nbformat_minor": 5
}
